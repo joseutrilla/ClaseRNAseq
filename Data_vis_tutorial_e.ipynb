{
 "cells": [
  {
   "cell_type": "code",
   "execution_count": null,
   "metadata": {},
   "outputs": [],
   "source": [
    "import escher\n",
    "import cobra"
   ]
  },
  {
   "cell_type": "code",
   "execution_count": null,
   "metadata": {},
   "outputs": [],
   "source": [
    "#Vemos los mapas disponibles en escher\n",
    "escher.list_available_maps()"
   ]
  },
  {
   "cell_type": "code",
   "execution_count": null,
   "metadata": {},
   "outputs": [],
   "source": [
    "b = escher.Builder(map_name='e_coli_core.Core metabolism')\n",
    "b.display_in_notebook()"
   ]
  },
  {
   "cell_type": "markdown",
   "metadata": {},
   "source": [
    "###### Cargamos el modelo de E. coli iML1515, optimizamos crecimiento con los parametros por default"
   ]
  },
  {
   "cell_type": "code",
   "execution_count": null,
   "metadata": {},
   "outputs": [],
   "source": [
    "model = cobra.io.load_json_model('../utrilla/iML1515.json')\n",
    "solution = model.optimize()\n",
    "print('Growth rate: %.2f' % solution.objective_value)"
   ]
  },
  {
   "cell_type": "markdown",
   "metadata": {},
   "source": [
    "###### con la funcion model.summary podemos ver las entradas y salidas del modelo"
   ]
  },
  {
   "cell_type": "code",
   "execution_count": null,
   "metadata": {},
   "outputs": [],
   "source": []
  },
  {
   "cell_type": "markdown",
   "metadata": {},
   "source": [
    "###### Visualizar los flujos de la solucion del modelo (solution.fluxes) en el mapa de E. coli core metabolism"
   ]
  },
  {
   "cell_type": "code",
   "execution_count": null,
   "metadata": {
    "scrolled": true
   },
   "outputs": [],
   "source": [
    "b = escher.Builder(map_name='e_coli_core.Core metabolism',\n",
    "                   reaction_data=dict(solution.fluxes),\n",
    "                   # change the default colors\n",
    "                   reaction_scale=[{'type': 'min', 'color': '#cccccc', 'size': 4},\n",
    "                                   {'type': 'value', 'value': 0.1, 'color': '#cccccc', 'size': 8},\n",
    "                                   {'type': 'mean', 'color': '#0000dd', 'size': 20},\n",
    "                                   {'type': 'max', 'color': '#ff0000', 'size': 40}],\n",
    "                   # absolute value and no text for data\n",
    "                   reaction_styles=['size', 'color', 'abs'],\n",
    "                   # only show the primary metabolites\n",
    "                   hide_secondary_metabolites=True)\n",
    "b.display_in_notebook()"
   ]
  },
  {
   "cell_type": "code",
   "execution_count": null,
   "metadata": {},
   "outputs": [],
   "source": []
  },
  {
   "cell_type": "markdown",
   "metadata": {},
   "source": [
    "###### Cambiamos el modelo para simular un crecimiento anaerobico, model.reactions.EX_o2_e.lower_bound = 0"
   ]
  },
  {
   "cell_type": "code",
   "execution_count": null,
   "metadata": {},
   "outputs": [],
   "source": [
    "#creamos una variable anmodel para diferenciar los dos modelos\n"
   ]
  },
  {
   "cell_type": "code",
   "execution_count": null,
   "metadata": {},
   "outputs": [],
   "source": [
    "#model.summary nos da el resumen de las entradas y salidas\n"
   ]
  },
  {
   "cell_type": "code",
   "execution_count": null,
   "metadata": {},
   "outputs": [],
   "source": [
    "#visualizamos\n",
    "c = escher.Builder(map_name='e_coli_core.Core metabolism',\n",
    "                   reaction_data=dict(ansolution.fluxes),\n",
    "                   # change the default colors\n",
    "                   reaction_scale=[{'type': 'min', 'color': '#cccccc', 'size': 4},\n",
    "                                   {'type': 'value', 'value': 0.1, 'color': '#cccccc', 'size': 8},\n",
    "                                   {'type': 'mean', 'color': '#0000dd', 'size': 20},\n",
    "                                   {'type': 'max', 'color': '#ff0000', 'size': 40}],\n",
    "                   # absolute value and no text for data\n",
    "                   reaction_styles=['size', 'color', 'abs'],\n",
    "                   # only show the primary metabolites\n",
    "                   hide_secondary_metabolites=True)\n",
    "c.display_in_notebook()"
   ]
  },
  {
   "cell_type": "markdown",
   "metadata": {},
   "source": [
    "###### la variable \"anmodel\" ya tiene un modelo con el consumo de oxigeno en zero, sabemos que en condiciones anaerobicas E. coli consume glucosa a una tasa mas alta. Vamos a meter una restriccion para forzar al modelo a usar mas glucosa a valores reportados en la literatura (McCloskey et al 2014) model.reactions.EX_glc__D_e.lower_bound = -14"
   ]
  },
  {
   "cell_type": "code",
   "execution_count": null,
   "metadata": {},
   "outputs": [],
   "source": []
  },
  {
   "cell_type": "code",
   "execution_count": null,
   "metadata": {},
   "outputs": [],
   "source": [
    "#visualizamos\n",
    "d = escher.Builder(map_name='e_coli_core.Core metabolism',\n",
    "                   reaction_data=dict(ansolution.fluxes),\n",
    "                   # change the default colors\n",
    "                   reaction_scale=[{'type': 'min', 'color': '#cccccc', 'size': 4},\n",
    "                                   {'type': 'value', 'value': 0.1, 'color': '#cccccc', 'size': 8},\n",
    "                                   {'type': 'mean', 'color': '#0000dd', 'size': 20},\n",
    "                                   {'type': 'max', 'color': '#ff0000', 'size': 40}],\n",
    "                   # absolute value and no text for data\n",
    "                   reaction_styles=['size', 'color', 'abs'],\n",
    "                   # only show the primary metabolites\n",
    "                   hide_secondary_metabolites=True)\n",
    "d.display_in_notebook()"
   ]
  },
  {
   "cell_type": "markdown",
   "metadata": {},
   "source": [
    "###### importamos un data set de RNAseq comparando crecimiento aerobio vs anaerobio en E. coli como un dataframe (pandas)"
   ]
  },
  {
   "cell_type": "code",
   "execution_count": null,
   "metadata": {},
   "outputs": [],
   "source": [
    "import pandas as pd\n",
    "rnaseq = pd.read_table('../utrilla/S6_RNAseqAerobictoAnaer.csv', sep=',', header=0, index_col=0 )\n",
    "rnaseq.head()"
   ]
  },
  {
   "cell_type": "markdown",
   "metadata": {},
   "source": [
    "###### Escher usa un arreglo de diccionarios, cada \"condicion\" es un diccionario en este caso"
   ]
  },
  {
   "cell_type": "code",
   "execution_count": null,
   "metadata": {},
   "outputs": [],
   "source": [
    "rnaseq_array = [dict(zip(rnaseq.index, x)) for x in rnaseq.values.T]"
   ]
  },
  {
   "cell_type": "markdown",
   "metadata": {},
   "source": [
    "###### Cargamos los datos en el mapa de Escher, usaremos \"log2_fold\" como estilo, ver la documentacion de Escher para otros"
   ]
  },
  {
   "cell_type": "code",
   "execution_count": null,
   "metadata": {},
   "outputs": [],
   "source": [
    "b = escher.Builder(map_name='e_coli_core.Core metabolism',\n",
    "                   gene_data=rnaseq_array,\n",
    "                   reaction_compare_style='log2_fold',\n",
    "                   # change the default colors\n",
    "                   reaction_scale=[{'type': 'min', 'color': 'green', 'size': 25},\n",
    "                                   {'type': 'value', 'value': 0, 'color': '#cccccc', 'size': 8},\n",
    "                                   {'type': 'max', 'color': 'red', 'size': 25}],\n",
    "                   # absolute value and no text for data\n",
    "                   reaction_styles=['size', 'color', 'text'],\n",
    "                   # only show the primary metabolites\n",
    "                   hide_secondary_metabolites=True)\n",
    "b.display_in_notebook()"
   ]
  },
  {
   "cell_type": "code",
   "execution_count": null,
   "metadata": {},
   "outputs": [],
   "source": []
  }
 ],
 "metadata": {
  "kernelspec": {
   "display_name": "Python 3",
   "language": "python",
   "name": "python3"
  },
  "language_info": {
   "codemirror_mode": {
    "name": "ipython",
    "version": 3
   },
   "file_extension": ".py",
   "mimetype": "text/x-python",
   "name": "python",
   "nbconvert_exporter": "python",
   "pygments_lexer": "ipython3",
   "version": "3.5.2"
  }
 },
 "nbformat": 4,
 "nbformat_minor": 2
}
